{
 "cells": [
  {
   "cell_type": "markdown",
   "id": "39616240-0e59-45d8-88c1-35b87e340324",
   "metadata": {},
   "source": [
    "# Uploading Models"
   ]
  },
  {
   "cell_type": "markdown",
   "id": "bedc0878-0e40-4632-8162-7d2227809657",
   "metadata": {},
   "source": [
    "## Setup LFS"
   ]
  },
  {
   "cell_type": "code",
   "execution_count": null,
   "id": "326a6f80-0723-40ee-812f-8164e6b038a3",
   "metadata": {},
   "outputs": [],
   "source": [
    "!apt update\n",
    "!apt install git-lfs\n",
    "# check install\n",
    "!git lfs install"
   ]
  },
  {
   "cell_type": "markdown",
   "source": [
    "## Clone to Local"
   ],
   "metadata": {
    "collapsed": false
   }
  },
  {
   "cell_type": "code",
   "execution_count": null,
   "id": "434bee3a-5913-48f4-86e3-16a3e42a2a16",
   "metadata": {},
   "outputs": [],
   "source": [
    "!git clone https://huggingface.co/decapoda-research/llama-7b-hf"
   ]
  },
  {
   "cell_type": "markdown",
   "source": [
    "# Run with Local"
   ],
   "metadata": {
    "collapsed": false
   }
  },
  {
   "cell_type": "code",
   "execution_count": null,
   "outputs": [],
   "source": [
    "!git clone https://github.com/tloen/alpaca-lora\n",
    "\n",
    "!pip install -r requirements.txt\n",
    "!python generate.py \\\n",
    "    --load_8bit \\\n",
    "    --base_model '../llama-7b-hf' \\\n",
    "    --lora_weights 'tloen/alpaca-lora-7b'"
   ],
   "metadata": {
    "collapsed": false
   }
  },
  {
   "cell_type": "code",
   "execution_count": null,
   "outputs": [],
   "source": [
    "# Run With Server"
   ],
   "metadata": {
    "collapsed": false
   }
  },
  {
   "cell_type": "code",
   "execution_count": null,
   "outputs": [],
   "source": [
    "!git clone https://huggingface.co/spaces/tloen/alpaca-lora"
   ],
   "metadata": {
    "collapsed": false
   }
  },
  {
   "cell_type": "markdown",
   "source": [
    "## 配置源（按需）"
   ],
   "metadata": {
    "collapsed": false
   }
  },
  {
   "cell_type": "code",
   "execution_count": null,
   "outputs": [],
   "source": [
    "!pip config set global.index-url https://pypi.tuna.tsinghua.edu.cn/simple"
   ],
   "metadata": {
    "collapsed": false
   }
  },
  {
   "cell_type": "code",
   "execution_count": null,
   "outputs": [],
   "source": [
    "!cd alpaca-lora && pip install -r requirements.txt"
   ],
   "metadata": {
    "collapsed": false
   }
  },
  {
   "cell_type": "markdown",
   "source": [
    "## Run Server"
   ],
   "metadata": {
    "collapsed": false
   }
  },
  {
   "cell_type": "code",
   "execution_count": null,
   "outputs": [],
   "source": [
    "# modify app.py huggingFace to Local\n",
    "# tokenizer = LlamaTokenizer.from_pretrained(\"../llama-7b-hf\")\n",
    "# BASE_MODEL = \"../llama-7b-hf\"\n",
    "!cd alpaca-lora && python app.py"
   ],
   "metadata": {
    "collapsed": false
   }
  }
 ],
 "metadata": {
  "kernelspec": {
   "display_name": "Python 3 (ipykernel)",
   "language": "python",
   "name": "python3"
  },
  "language_info": {
   "codemirror_mode": {
    "name": "ipython",
    "version": 3
   },
   "file_extension": ".py",
   "mimetype": "text/x-python",
   "name": "python",
   "nbconvert_exporter": "python",
   "pygments_lexer": "ipython3",
   "version": "3.8.15"
  }
 },
 "nbformat": 4,
 "nbformat_minor": 5
}
