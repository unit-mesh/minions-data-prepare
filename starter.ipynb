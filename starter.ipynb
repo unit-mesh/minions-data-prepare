{
 "cells": [
  {
   "cell_type": "markdown",
   "source": [
    "# Install Dependencies"
   ],
   "metadata": {
    "collapsed": false
   }
  },
  {
   "cell_type": "code",
   "execution_count": 1,
   "outputs": [
    {
     "name": "stdout",
     "output_type": "stream",
     "text": [
      "Collecting git+https://github.com/huggingface/transformers.git (from -r requirements.txt (line 4))\r\n",
      "  Cloning https://github.com/huggingface/transformers.git to /private/var/folders/rt/gw2rs2td209ck8nlqdlt_v8m0000gn/T/pip-req-build-uy26jq06\r\n",
      "  Running command git clone --filter=blob:none --quiet https://github.com/huggingface/transformers.git /private/var/folders/rt/gw2rs2td209ck8nlqdlt_v8m0000gn/T/pip-req-build-uy26jq06\r\n",
      "  Resolved https://github.com/huggingface/transformers.git to commit 9b494a1537e3c6a30e5648ab3d4e983380792a91\r\n",
      "  Installing build dependencies ... \u001B[?25ldone\r\n",
      "\u001B[?25h  Getting requirements to build wheel ... \u001B[?25ldone\r\n",
      "\u001B[?25h  Preparing metadata (pyproject.toml) ... \u001B[?25ldone\r\n",
      "\u001B[?25hCollecting git+https://github.com/huggingface/peft.git (from -r requirements.txt (line 7))\r\n",
      "  Cloning https://github.com/huggingface/peft.git to /private/var/folders/rt/gw2rs2td209ck8nlqdlt_v8m0000gn/T/pip-req-build-en26of63\r\n",
      "  Running command git clone --filter=blob:none --quiet https://github.com/huggingface/peft.git /private/var/folders/rt/gw2rs2td209ck8nlqdlt_v8m0000gn/T/pip-req-build-en26of63\r\n",
      "  Resolved https://github.com/huggingface/peft.git to commit df71b84341ae1ab3bc9b0d5f906d7a524850b63b\r\n",
      "  Installing build dependencies ... \u001B[?25ldone\r\n",
      "\u001B[?25h  Getting requirements to build wheel ... \u001B[?25ldone\r\n",
      "\u001B[?25h  Preparing metadata (pyproject.toml) ... \u001B[?25ldone\r\n",
      "\u001B[?25hCollecting datasets\r\n",
      "  Using cached datasets-2.10.1-py3-none-any.whl (469 kB)\r\n",
      "Collecting loralib\r\n",
      "  Using cached loralib-0.1.1-py3-none-any.whl (8.8 kB)\r\n",
      "Requirement already satisfied: sentencepiece in /Users/phodal/opt/anaconda3/lib/python3.9/site-packages (from -r requirements.txt (line 3)) (0.1.97)\r\n",
      "Requirement already satisfied: accelerate in /Users/phodal/opt/anaconda3/lib/python3.9/site-packages (from -r requirements.txt (line 5)) (0.12.0)\r\n",
      "Requirement already satisfied: bitsandbytes in /Users/phodal/opt/anaconda3/lib/python3.9/site-packages (from -r requirements.txt (line 6)) (0.37.0)\r\n",
      "Requirement already satisfied: gradio in /Users/phodal/opt/anaconda3/lib/python3.9/site-packages (from -r requirements.txt (line 8)) (3.16.2)\r\n",
      "Requirement already satisfied: aiohttp in /Users/phodal/opt/anaconda3/lib/python3.9/site-packages (from datasets->-r requirements.txt (line 1)) (3.8.4)\r\n",
      "Collecting xxhash\r\n",
      "  Using cached xxhash-3.2.0-cp39-cp39-macosx_10_9_x86_64.whl (35 kB)\r\n",
      "Requirement already satisfied: huggingface-hub<1.0.0,>=0.2.0 in /Users/phodal/opt/anaconda3/lib/python3.9/site-packages (from datasets->-r requirements.txt (line 1)) (0.12.1)\r\n",
      "Requirement already satisfied: pyyaml>=5.1 in /Users/phodal/opt/anaconda3/lib/python3.9/site-packages (from datasets->-r requirements.txt (line 1)) (6.0)\r\n",
      "Requirement already satisfied: pyarrow>=6.0.0 in /Users/phodal/opt/anaconda3/lib/python3.9/site-packages (from datasets->-r requirements.txt (line 1)) (8.0.0)\r\n",
      "Requirement already satisfied: fsspec[http]>=2021.11.1 in /Users/phodal/opt/anaconda3/lib/python3.9/site-packages (from datasets->-r requirements.txt (line 1)) (2022.7.1)\r\n",
      "Requirement already satisfied: packaging in /Users/phodal/opt/anaconda3/lib/python3.9/site-packages (from datasets->-r requirements.txt (line 1)) (21.3)\r\n",
      "Requirement already satisfied: requests>=2.19.0 in /Users/phodal/opt/anaconda3/lib/python3.9/site-packages (from datasets->-r requirements.txt (line 1)) (2.25.1)\r\n",
      "Collecting responses<0.19\r\n",
      "  Using cached responses-0.18.0-py3-none-any.whl (38 kB)\r\n",
      "Requirement already satisfied: pandas in /Users/phodal/opt/anaconda3/lib/python3.9/site-packages (from datasets->-r requirements.txt (line 1)) (1.4.4)\r\n",
      "Collecting multiprocess\r\n",
      "  Using cached multiprocess-0.70.14-py39-none-any.whl (132 kB)\r\n",
      "Requirement already satisfied: tqdm>=4.62.1 in /Users/phodal/opt/anaconda3/lib/python3.9/site-packages (from datasets->-r requirements.txt (line 1)) (4.64.1)\r\n",
      "Requirement already satisfied: dill<0.3.7,>=0.3.0 in /Users/phodal/opt/anaconda3/lib/python3.9/site-packages (from datasets->-r requirements.txt (line 1)) (0.3.4)\r\n",
      "Requirement already satisfied: numpy>=1.17 in /Users/phodal/opt/anaconda3/lib/python3.9/site-packages (from datasets->-r requirements.txt (line 1)) (1.23.3)\r\n",
      "Requirement already satisfied: filelock in /Users/phodal/opt/anaconda3/lib/python3.9/site-packages (from transformers==4.28.0.dev0->-r requirements.txt (line 4)) (3.6.0)\r\n",
      "Requirement already satisfied: tokenizers!=0.11.3,<0.14,>=0.11.1 in /Users/phodal/opt/anaconda3/lib/python3.9/site-packages (from transformers==4.28.0.dev0->-r requirements.txt (line 4)) (0.12.1)\r\n",
      "Requirement already satisfied: regex!=2019.12.17 in /Users/phodal/opt/anaconda3/lib/python3.9/site-packages (from transformers==4.28.0.dev0->-r requirements.txt (line 4)) (2022.7.9)\r\n",
      "Requirement already satisfied: psutil in /Users/phodal/opt/anaconda3/lib/python3.9/site-packages (from accelerate->-r requirements.txt (line 5)) (5.9.0)\r\n",
      "Requirement already satisfied: torch>=1.4.0 in /Users/phodal/opt/anaconda3/lib/python3.9/site-packages (from accelerate->-r requirements.txt (line 5)) (1.13.1)\r\n",
      "Requirement already satisfied: ffmpy in /Users/phodal/opt/anaconda3/lib/python3.9/site-packages (from gradio->-r requirements.txt (line 8)) (0.3.0)\r\n",
      "Requirement already satisfied: pydub in /Users/phodal/opt/anaconda3/lib/python3.9/site-packages (from gradio->-r requirements.txt (line 8)) (0.25.1)\r\n",
      "Requirement already satisfied: pycryptodome in /Users/phodal/opt/anaconda3/lib/python3.9/site-packages (from gradio->-r requirements.txt (line 8)) (3.17)\r\n",
      "Requirement already satisfied: httpx in /Users/phodal/opt/anaconda3/lib/python3.9/site-packages (from gradio->-r requirements.txt (line 8)) (0.23.3)\r\n",
      "Requirement already satisfied: markupsafe in /Users/phodal/opt/anaconda3/lib/python3.9/site-packages (from gradio->-r requirements.txt (line 8)) (2.0.1)\r\n",
      "Requirement already satisfied: aiofiles in /Users/phodal/opt/anaconda3/lib/python3.9/site-packages (from gradio->-r requirements.txt (line 8)) (23.1.0)\r\n",
      "Requirement already satisfied: markdown-it-py[linkify,plugins] in /Users/phodal/opt/anaconda3/lib/python3.9/site-packages (from gradio->-r requirements.txt (line 8)) (2.1.0)\r\n",
      "Requirement already satisfied: typing-extensions in /Users/phodal/opt/anaconda3/lib/python3.9/site-packages (from gradio->-r requirements.txt (line 8)) (4.3.0)\r\n",
      "Requirement already satisfied: jinja2 in /Users/phodal/opt/anaconda3/lib/python3.9/site-packages (from gradio->-r requirements.txt (line 8)) (2.11.3)\r\n",
      "Requirement already satisfied: altair>=4.2.0 in /Users/phodal/opt/anaconda3/lib/python3.9/site-packages (from gradio->-r requirements.txt (line 8)) (4.2.2)\r\n",
      "Requirement already satisfied: matplotlib in /Users/phodal/opt/anaconda3/lib/python3.9/site-packages (from gradio->-r requirements.txt (line 8)) (3.5.2)\r\n",
      "Requirement already satisfied: fastapi in /Users/phodal/opt/anaconda3/lib/python3.9/site-packages (from gradio->-r requirements.txt (line 8)) (0.90.1)\r\n",
      "Requirement already satisfied: orjson in /Users/phodal/opt/anaconda3/lib/python3.9/site-packages (from gradio->-r requirements.txt (line 8)) (3.8.6)\r\n",
      "Requirement already satisfied: pillow in /Users/phodal/opt/anaconda3/lib/python3.9/site-packages (from gradio->-r requirements.txt (line 8)) (9.4.0)\r\n",
      "Requirement already satisfied: python-multipart in /Users/phodal/opt/anaconda3/lib/python3.9/site-packages (from gradio->-r requirements.txt (line 8)) (0.0.5)\r\n",
      "Requirement already satisfied: pydantic in /Users/phodal/opt/anaconda3/lib/python3.9/site-packages (from gradio->-r requirements.txt (line 8)) (1.10.5)\r\n",
      "Requirement already satisfied: websockets>=10.0 in /Users/phodal/opt/anaconda3/lib/python3.9/site-packages (from gradio->-r requirements.txt (line 8)) (10.4)\r\n",
      "Requirement already satisfied: uvicorn in /Users/phodal/opt/anaconda3/lib/python3.9/site-packages (from gradio->-r requirements.txt (line 8)) (0.20.0)\r\n",
      "Requirement already satisfied: entrypoints in /Users/phodal/opt/anaconda3/lib/python3.9/site-packages (from altair>=4.2.0->gradio->-r requirements.txt (line 8)) (0.4)\r\n",
      "Requirement already satisfied: toolz in /Users/phodal/opt/anaconda3/lib/python3.9/site-packages (from altair>=4.2.0->gradio->-r requirements.txt (line 8)) (0.11.2)\r\n",
      "Requirement already satisfied: jsonschema>=3.0 in /Users/phodal/opt/anaconda3/lib/python3.9/site-packages (from altair>=4.2.0->gradio->-r requirements.txt (line 8)) (4.16.0)\r\n",
      "Requirement already satisfied: pyparsing!=3.0.5,>=2.0.2 in /Users/phodal/opt/anaconda3/lib/python3.9/site-packages (from packaging->datasets->-r requirements.txt (line 1)) (3.0.9)\r\n",
      "Requirement already satisfied: python-dateutil>=2.8.1 in /Users/phodal/opt/anaconda3/lib/python3.9/site-packages (from pandas->datasets->-r requirements.txt (line 1)) (2.8.2)\r\n",
      "Requirement already satisfied: pytz>=2020.1 in /Users/phodal/opt/anaconda3/lib/python3.9/site-packages (from pandas->datasets->-r requirements.txt (line 1)) (2022.1)\r\n",
      "Requirement already satisfied: urllib3<1.27,>=1.21.1 in /Users/phodal/opt/anaconda3/lib/python3.9/site-packages (from requests>=2.19.0->datasets->-r requirements.txt (line 1)) (1.26.11)\r\n",
      "Requirement already satisfied: certifi>=2017.4.17 in /Users/phodal/opt/anaconda3/lib/python3.9/site-packages (from requests>=2.19.0->datasets->-r requirements.txt (line 1)) (2022.9.24)\r\n",
      "Requirement already satisfied: chardet<5,>=3.0.2 in /Users/phodal/opt/anaconda3/lib/python3.9/site-packages (from requests>=2.19.0->datasets->-r requirements.txt (line 1)) (4.0.0)\r\n",
      "Requirement already satisfied: idna<3,>=2.5 in /Users/phodal/opt/anaconda3/lib/python3.9/site-packages (from requests>=2.19.0->datasets->-r requirements.txt (line 1)) (2.10)\r\n",
      "Requirement already satisfied: aiosignal>=1.1.2 in /Users/phodal/opt/anaconda3/lib/python3.9/site-packages (from aiohttp->datasets->-r requirements.txt (line 1)) (1.3.1)\r\n",
      "Requirement already satisfied: frozenlist>=1.1.1 in /Users/phodal/opt/anaconda3/lib/python3.9/site-packages (from aiohttp->datasets->-r requirements.txt (line 1)) (1.3.3)\r\n",
      "Requirement already satisfied: async-timeout<5.0,>=4.0.0a3 in /Users/phodal/opt/anaconda3/lib/python3.9/site-packages (from aiohttp->datasets->-r requirements.txt (line 1)) (4.0.2)\r\n",
      "Requirement already satisfied: yarl<2.0,>=1.0 in /Users/phodal/opt/anaconda3/lib/python3.9/site-packages (from aiohttp->datasets->-r requirements.txt (line 1)) (1.8.2)\r\n",
      "Requirement already satisfied: multidict<7.0,>=4.5 in /Users/phodal/opt/anaconda3/lib/python3.9/site-packages (from aiohttp->datasets->-r requirements.txt (line 1)) (6.0.4)\r\n",
      "Requirement already satisfied: charset-normalizer<4.0,>=2.0 in /Users/phodal/opt/anaconda3/lib/python3.9/site-packages (from aiohttp->datasets->-r requirements.txt (line 1)) (2.0.4)\r\n",
      "Requirement already satisfied: attrs>=17.3.0 in /Users/phodal/opt/anaconda3/lib/python3.9/site-packages (from aiohttp->datasets->-r requirements.txt (line 1)) (21.4.0)\r\n",
      "Requirement already satisfied: starlette<0.24.0,>=0.22.0 in /Users/phodal/opt/anaconda3/lib/python3.9/site-packages (from fastapi->gradio->-r requirements.txt (line 8)) (0.23.1)\r\n",
      "Requirement already satisfied: sniffio in /Users/phodal/opt/anaconda3/lib/python3.9/site-packages (from httpx->gradio->-r requirements.txt (line 8)) (1.2.0)\r\n",
      "Requirement already satisfied: rfc3986[idna2008]<2,>=1.3 in /Users/phodal/opt/anaconda3/lib/python3.9/site-packages (from httpx->gradio->-r requirements.txt (line 8)) (1.5.0)\r\n",
      "Requirement already satisfied: httpcore<0.17.0,>=0.15.0 in /Users/phodal/opt/anaconda3/lib/python3.9/site-packages (from httpx->gradio->-r requirements.txt (line 8)) (0.15.0)\r\n",
      "Requirement already satisfied: mdurl~=0.1 in /Users/phodal/opt/anaconda3/lib/python3.9/site-packages (from markdown-it-py[linkify,plugins]->gradio->-r requirements.txt (line 8)) (0.1.2)\r\n",
      "Requirement already satisfied: mdit-py-plugins in /Users/phodal/opt/anaconda3/lib/python3.9/site-packages (from markdown-it-py[linkify,plugins]->gradio->-r requirements.txt (line 8)) (0.3.4)\r\n",
      "Requirement already satisfied: linkify-it-py~=1.0 in /Users/phodal/opt/anaconda3/lib/python3.9/site-packages (from markdown-it-py[linkify,plugins]->gradio->-r requirements.txt (line 8)) (1.0.3)\r\n",
      "Requirement already satisfied: kiwisolver>=1.0.1 in /Users/phodal/opt/anaconda3/lib/python3.9/site-packages (from matplotlib->gradio->-r requirements.txt (line 8)) (1.4.2)\r\n",
      "Requirement already satisfied: fonttools>=4.22.0 in /Users/phodal/opt/anaconda3/lib/python3.9/site-packages (from matplotlib->gradio->-r requirements.txt (line 8)) (4.25.0)\r\n",
      "Requirement already satisfied: cycler>=0.10 in /Users/phodal/opt/anaconda3/lib/python3.9/site-packages (from matplotlib->gradio->-r requirements.txt (line 8)) (0.11.0)\r\n",
      "Collecting dill<0.3.7,>=0.3.0\r\n",
      "  Using cached dill-0.3.6-py3-none-any.whl (110 kB)\r\n",
      "Requirement already satisfied: six>=1.4.0 in /Users/phodal/opt/anaconda3/lib/python3.9/site-packages (from python-multipart->gradio->-r requirements.txt (line 8)) (1.16.0)\r\n",
      "Requirement already satisfied: click>=7.0 in /Users/phodal/opt/anaconda3/lib/python3.9/site-packages (from uvicorn->gradio->-r requirements.txt (line 8)) (8.0.4)\r\n",
      "Requirement already satisfied: h11>=0.8 in /Users/phodal/opt/anaconda3/lib/python3.9/site-packages (from uvicorn->gradio->-r requirements.txt (line 8)) (0.12.0)\r\n",
      "Requirement already satisfied: anyio==3.* in /Users/phodal/opt/anaconda3/lib/python3.9/site-packages (from httpcore<0.17.0,>=0.15.0->httpx->gradio->-r requirements.txt (line 8)) (3.5.0)\r\n",
      "Requirement already satisfied: pyrsistent!=0.17.0,!=0.17.1,!=0.17.2,>=0.14.0 in /Users/phodal/opt/anaconda3/lib/python3.9/site-packages (from jsonschema>=3.0->altair>=4.2.0->gradio->-r requirements.txt (line 8)) (0.18.0)\r\n",
      "Requirement already satisfied: uc-micro-py in /Users/phodal/opt/anaconda3/lib/python3.9/site-packages (from linkify-it-py~=1.0->markdown-it-py[linkify,plugins]->gradio->-r requirements.txt (line 8)) (1.0.1)\r\n",
      "Building wheels for collected packages: transformers, peft\r\n",
      "  Building wheel for transformers (pyproject.toml) ... \u001B[?25ldone\r\n",
      "\u001B[?25h  Created wheel for transformers: filename=transformers-4.28.0.dev0-py3-none-any.whl size=6855665 sha256=826930c8089649fbc64350df7083095723f4b80d2e351446c26550a8685a835d\r\n",
      "  Stored in directory: /private/var/folders/rt/gw2rs2td209ck8nlqdlt_v8m0000gn/T/pip-ephem-wheel-cache-npaed50h/wheels/f7/92/8c/752ff3bfcd3439805d8bbf641614da38ef3226e127ebea86ee\r\n",
      "  Building wheel for peft (pyproject.toml) ... \u001B[?25ldone\r\n",
      "\u001B[?25h  Created wheel for peft: filename=peft-0.3.0.dev0-py3-none-any.whl size=40927 sha256=e5cc57ce963647252956b6e3a8f3da91cd92d148c53b8e74205078eed857f344\r\n",
      "  Stored in directory: /private/var/folders/rt/gw2rs2td209ck8nlqdlt_v8m0000gn/T/pip-ephem-wheel-cache-npaed50h/wheels/2d/60/1b/0edd9dc0f0c489738b1166bc1b0b560ee368f7721f89d06e3a\r\n",
      "Successfully built transformers peft\r\n",
      "Installing collected packages: xxhash, loralib, dill, responses, multiprocess, transformers, peft, datasets\r\n",
      "  Attempting uninstall: dill\r\n",
      "    Found existing installation: dill 0.3.4\r\n",
      "    Uninstalling dill-0.3.4:\r\n",
      "      Successfully uninstalled dill-0.3.4\r\n",
      "  Attempting uninstall: transformers\r\n",
      "    Found existing installation: transformers 4.25.1\r\n",
      "    Uninstalling transformers-4.25.1:\r\n",
      "      Successfully uninstalled transformers-4.25.1\r\n",
      "Successfully installed datasets-2.10.1 dill-0.3.6 loralib-0.1.1 multiprocess-0.70.14 peft-0.3.0.dev0 responses-0.18.0 transformers-4.28.0.dev0 xxhash-3.2.0\r\n"
     ]
    }
   ],
   "source": [
    "!pip install -r requirements.txt"
   ],
   "metadata": {
    "collapsed": false
   }
  },
  {
   "cell_type": "markdown",
   "source": [
    "# Run Sample"
   ],
   "metadata": {
    "collapsed": false
   }
  },
  {
   "cell_type": "code",
   "execution_count": 4,
   "outputs": [
    {
     "name": "stdout",
     "output_type": "stream",
     "text": [
      "NOTE: Redirects are currently not supported in Windows or MacOs.\r\n",
      "\r\n",
      "===================================BUG REPORT===================================\r\n",
      "Welcome to bitsandbytes. For bug reports, please submit your error trace to: https://github.com/TimDettmers/bitsandbytes/issues\r\n",
      "================================================================================\r\n",
      "CUDA SETUP: Required library version not found: libsbitsandbytes_cpu.so. Maybe you need to compile it from source?\r\n",
      "CUDA SETUP: Defaulting to libbitsandbytes_cpu.so...\r\n",
      "dlopen(/Users/phodal/opt/anaconda3/lib/python3.9/site-packages/bitsandbytes/libbitsandbytes_cpu.so, 0x0006): tried: '/Users/phodal/opt/anaconda3/lib/python3.9/site-packages/bitsandbytes/libbitsandbytes_cpu.so' (not a mach-o file), '/System/Volumes/Preboot/Cryptexes/OS/Users/phodal/opt/anaconda3/lib/python3.9/site-packages/bitsandbytes/libbitsandbytes_cpu.so' (no such file), '/Users/phodal/opt/anaconda3/lib/python3.9/site-packages/bitsandbytes/libbitsandbytes_cpu.so' (not a mach-o file)\r\n",
      "/Users/phodal/opt/anaconda3/lib/python3.9/site-packages/bitsandbytes/cextension.py:31: UserWarning: The installed version of bitsandbytes was compiled without GPU support. 8-bit optimizers and GPU quantization are unavailable.\r\n",
      "  warn(\"The installed version of bitsandbytes was compiled without GPU support. \"\r\n",
      "The tokenizer class you load from this checkpoint is not the same type as the class this function is called from. It may result in unexpected tokenization. \r\n",
      "The tokenizer class you load from this checkpoint is 'LLaMATokenizer'. \r\n",
      "The class this function is called from is 'LlamaTokenizer'.\r\n",
      "Loading checkpoint shards: 100%|████████████████| 33/33 [05:27<00:00,  9.92s/it]\r\n",
      "Traceback (most recent call last):\r\n",
      "  File \"/Volumes/source/ai/unit-prompter/app.py\", line 41, in <module>\r\n",
      "    model = LlamaForCausalLM.from_pretrained(\r\n",
      "  File \"/Users/phodal/opt/anaconda3/lib/python3.9/site-packages/transformers/modeling_utils.py\", line 2707, in from_pretrained\r\n",
      "    dispatch_model(model, device_map=device_map, offload_dir=offload_folder, offload_index=offload_index)\r\n",
      "TypeError: dispatch_model() got an unexpected keyword argument 'offload_index'\r\n"
     ]
    }
   ],
   "source": [
    "!python app.py"
   ],
   "metadata": {
    "collapsed": false
   }
  },
  {
   "cell_type": "code",
   "execution_count": null,
   "outputs": [],
   "source": [],
   "metadata": {
    "collapsed": false
   }
  }
 ],
 "metadata": {
  "kernelspec": {
   "display_name": "Python 3",
   "language": "python",
   "name": "python3"
  },
  "language_info": {
   "codemirror_mode": {
    "name": "ipython",
    "version": 2
   },
   "file_extension": ".py",
   "mimetype": "text/x-python",
   "name": "python",
   "nbconvert_exporter": "python",
   "pygments_lexer": "ipython2",
   "version": "2.7.6"
  }
 },
 "nbformat": 4,
 "nbformat_minor": 0
}
